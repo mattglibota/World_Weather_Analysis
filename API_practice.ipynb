{
 "cells": [
  {
   "cell_type": "code",
   "execution_count": 30,
   "metadata": {},
   "outputs": [],
   "source": [
    "# Create a practice set of random latitude and longitude combinations.\n",
    "x = [25.12903645, 25.92017388, 26.62509167, -59.98969384, 37.30571269]\n",
    "y = [-67.59741259, 11.09532135, 74.84233102, -76.89176677, -61.13376282]\n",
    "coordinates = zip(x, y)"
   ]
  },
  {
   "cell_type": "code",
   "execution_count": 31,
   "metadata": {},
   "outputs": [],
   "source": [
    "# Use the citipy module to determine city based on latitude and longitude.\n",
    "from citipy import citipy"
   ]
  },
  {
   "cell_type": "code",
   "execution_count": 32,
   "metadata": {},
   "outputs": [
    {
     "data": {
      "text/plain": [
       "<zip at 0x1fe08ddf9c8>"
      ]
     },
     "execution_count": 32,
     "metadata": {},
     "output_type": "execute_result"
    }
   ],
   "source": [
    "coordinates"
   ]
  },
  {
   "cell_type": "code",
   "execution_count": 33,
   "metadata": {},
   "outputs": [
    {
     "name": "stdout",
     "output_type": "stream",
     "text": [
      "['cockburn town', 'gat', 'parvatsar', 'punta arenas', 'saint george']\n"
     ]
    }
   ],
   "source": [
    "cities = []\n",
    "for coordinate_pair in coordinates:\n",
    "    lat, lon = coordinate_pair\n",
    "    cities.append(citipy.nearest_city(lat,lon).city_name)\n",
    "print(cities)"
   ]
  },
  {
   "cell_type": "code",
   "execution_count": 9,
   "metadata": {},
   "outputs": [
    {
     "name": "stdout",
     "output_type": "stream",
     "text": [
      "Help on module citipy.citipy in citipy:\n",
      "\n",
      "NAME\n",
      "    citipy.citipy\n",
      "\n",
      "CLASSES\n",
      "    builtins.object\n",
      "        City\n",
      "    \n",
      "    class City(builtins.object)\n",
      "     |  City(city_name, country_code)\n",
      "     |  \n",
      "     |  City wraps up the info about a city, including its name, coordinates,\n",
      "     |  and belonging country.\n",
      "     |  \n",
      "     |  Methods defined here:\n",
      "     |  \n",
      "     |  __init__(self, city_name, country_code)\n",
      "     |      Initialize self.  See help(type(self)) for accurate signature.\n",
      "     |  \n",
      "     |  ----------------------------------------------------------------------\n",
      "     |  Data descriptors defined here:\n",
      "     |  \n",
      "     |  __dict__\n",
      "     |      dictionary for instance variables (if defined)\n",
      "     |  \n",
      "     |  __weakref__\n",
      "     |      list of weak references to the object (if defined)\n",
      "\n",
      "FUNCTIONS\n",
      "    nearest_city(latitude, longitude)\n",
      "\n",
      "DATA\n",
      "    WORLD_CITIES_DICT = {(-54.8, -68.3): <citipy.citipy.City object>, (-53...\n",
      "    c = <citipy.citipy.City object>\n",
      "    cities = <_csv.reader object>\n",
      "    city = ['zw', 'zvishavane', '-20.3333333', '30.0333333']\n",
      "    city_coordinate_key = (-20.3333333, 30.0333333)\n",
      "    csv_file = <_io.TextIOWrapper name='C:\\\\Users\\\\mattg\\\\Anaco...ipy\\\\wor...\n",
      "\n",
      "FILE\n",
      "    c:\\users\\mattg\\anaconda3\\envs\\pythondata\\lib\\site-packages\\citipy\\citipy.py\n",
      "\n",
      "\n"
     ]
    }
   ],
   "source": [
    "help(citipy)"
   ]
  },
  {
   "cell_type": "code",
   "execution_count": null,
   "metadata": {},
   "outputs": [],
   "source": []
  }
 ],
 "metadata": {
  "kernelspec": {
   "display_name": "PythonData",
   "language": "python",
   "name": "pythondata"
  },
  "language_info": {
   "codemirror_mode": {
    "name": "ipython",
    "version": 3
   },
   "file_extension": ".py",
   "mimetype": "text/x-python",
   "name": "python",
   "nbconvert_exporter": "python",
   "pygments_lexer": "ipython3",
   "version": "3.7.6"
  }
 },
 "nbformat": 4,
 "nbformat_minor": 4
}
