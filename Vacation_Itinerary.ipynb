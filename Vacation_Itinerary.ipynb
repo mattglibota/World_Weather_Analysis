{
 "cells": [
  {
   "cell_type": "code",
   "execution_count": 1,
   "metadata": {},
   "outputs": [],
   "source": [
    "#import dependencies\n",
    "import pandas as pd, gmaps, requests\n",
    "\n",
    "#import api K\n",
    "from config import g_key"
   ]
  },
  {
   "cell_type": "code",
   "execution_count": 4,
   "metadata": {},
   "outputs": [
    {
     "data": {
      "text/html": [
       "<div>\n",
       "<style scoped>\n",
       "    .dataframe tbody tr th:only-of-type {\n",
       "        vertical-align: middle;\n",
       "    }\n",
       "\n",
       "    .dataframe tbody tr th {\n",
       "        vertical-align: top;\n",
       "    }\n",
       "\n",
       "    .dataframe thead th {\n",
       "        text-align: right;\n",
       "    }\n",
       "</style>\n",
       "<table border=\"1\" class=\"dataframe\">\n",
       "  <thead>\n",
       "    <tr style=\"text-align: right;\">\n",
       "      <th></th>\n",
       "      <th>City_ID</th>\n",
       "      <th>City</th>\n",
       "      <th>Country</th>\n",
       "      <th>Max Temp</th>\n",
       "      <th>Current Desc</th>\n",
       "      <th>Lat</th>\n",
       "      <th>Lng</th>\n",
       "      <th>Rain Inches (last 3 hrs)</th>\n",
       "      <th>Snow Inches (last 3 hrs)</th>\n",
       "      <th>Hotel Name</th>\n",
       "    </tr>\n",
       "  </thead>\n",
       "  <tbody>\n",
       "    <tr>\n",
       "      <th>0</th>\n",
       "      <td>21</td>\n",
       "      <td>Dikson</td>\n",
       "      <td>RU</td>\n",
       "      <td>30.27</td>\n",
       "      <td>snow</td>\n",
       "      <td>73.51</td>\n",
       "      <td>80.55</td>\n",
       "      <td>0.0</td>\n",
       "      <td>1.75</td>\n",
       "      <td>NaN</td>\n",
       "    </tr>\n",
       "    <tr>\n",
       "      <th>1</th>\n",
       "      <td>33</td>\n",
       "      <td>Severo-Kurilsk</td>\n",
       "      <td>RU</td>\n",
       "      <td>23.50</td>\n",
       "      <td>snow</td>\n",
       "      <td>50.68</td>\n",
       "      <td>156.12</td>\n",
       "      <td>0.0</td>\n",
       "      <td>3.06</td>\n",
       "      <td>Kak Doma</td>\n",
       "    </tr>\n",
       "    <tr>\n",
       "      <th>2</th>\n",
       "      <td>75</td>\n",
       "      <td>Karpogory</td>\n",
       "      <td>RU</td>\n",
       "      <td>33.67</td>\n",
       "      <td>light snow</td>\n",
       "      <td>64.00</td>\n",
       "      <td>44.45</td>\n",
       "      <td>0.0</td>\n",
       "      <td>0.19</td>\n",
       "      <td>Hotel Pinezhskaya Sloboda</td>\n",
       "    </tr>\n",
       "    <tr>\n",
       "      <th>3</th>\n",
       "      <td>97</td>\n",
       "      <td>Khatanga</td>\n",
       "      <td>RU</td>\n",
       "      <td>12.67</td>\n",
       "      <td>light snow</td>\n",
       "      <td>71.97</td>\n",
       "      <td>102.50</td>\n",
       "      <td>0.0</td>\n",
       "      <td>0.25</td>\n",
       "      <td>Gostinitsa \"Zapolyar'ye\"</td>\n",
       "    </tr>\n",
       "    <tr>\n",
       "      <th>4</th>\n",
       "      <td>111</td>\n",
       "      <td>Omagari</td>\n",
       "      <td>JP</td>\n",
       "      <td>34.00</td>\n",
       "      <td>light snow</td>\n",
       "      <td>39.45</td>\n",
       "      <td>140.48</td>\n",
       "      <td>0.0</td>\n",
       "      <td>0.13</td>\n",
       "      <td>Airinkan</td>\n",
       "    </tr>\n",
       "  </tbody>\n",
       "</table>\n",
       "</div>"
      ],
      "text/plain": [
       "   City_ID            City Country  Max Temp Current Desc    Lat     Lng  \\\n",
       "0       21          Dikson      RU     30.27         snow  73.51   80.55   \n",
       "1       33  Severo-Kurilsk      RU     23.50         snow  50.68  156.12   \n",
       "2       75       Karpogory      RU     33.67   light snow  64.00   44.45   \n",
       "3       97        Khatanga      RU     12.67   light snow  71.97  102.50   \n",
       "4      111         Omagari      JP     34.00   light snow  39.45  140.48   \n",
       "\n",
       "   Rain Inches (last 3 hrs)  Snow Inches (last 3 hrs)  \\\n",
       "0                       0.0                      1.75   \n",
       "1                       0.0                      3.06   \n",
       "2                       0.0                      0.19   \n",
       "3                       0.0                      0.25   \n",
       "4                       0.0                      0.13   \n",
       "\n",
       "                  Hotel Name  \n",
       "0                        NaN  \n",
       "1                   Kak Doma  \n",
       "2  Hotel Pinezhskaya Sloboda  \n",
       "3   Gostinitsa \"Zapolyar'ye\"  \n",
       "4                   Airinkan  "
      ]
     },
     "execution_count": 4,
     "metadata": {},
     "output_type": "execute_result"
    }
   ],
   "source": [
    "#import csv to df\n",
    "city_df = pd.read_csv(\"weather_data/WeatherPy_vacation.csv\")\n",
    "city_df.head()"
   ]
  },
  {
   "cell_type": "code",
   "execution_count": 13,
   "metadata": {},
   "outputs": [
    {
     "data": {
      "text/html": [
       "<div>\n",
       "<style scoped>\n",
       "    .dataframe tbody tr th:only-of-type {\n",
       "        vertical-align: middle;\n",
       "    }\n",
       "\n",
       "    .dataframe tbody tr th {\n",
       "        vertical-align: top;\n",
       "    }\n",
       "\n",
       "    .dataframe thead th {\n",
       "        text-align: right;\n",
       "    }\n",
       "</style>\n",
       "<table border=\"1\" class=\"dataframe\">\n",
       "  <thead>\n",
       "    <tr style=\"text-align: right;\">\n",
       "      <th></th>\n",
       "      <th>City_ID</th>\n",
       "      <th>City</th>\n",
       "      <th>Country</th>\n",
       "      <th>Max Temp</th>\n",
       "      <th>Current Desc</th>\n",
       "      <th>Lat</th>\n",
       "      <th>Lng</th>\n",
       "      <th>Rain Inches (last 3 hrs)</th>\n",
       "      <th>Snow Inches (last 3 hrs)</th>\n",
       "      <th>Hotel Name</th>\n",
       "    </tr>\n",
       "  </thead>\n",
       "  <tbody>\n",
       "    <tr>\n",
       "      <th>17</th>\n",
       "      <td>379</td>\n",
       "      <td>Sernur</td>\n",
       "      <td>RU</td>\n",
       "      <td>28.17</td>\n",
       "      <td>light snow</td>\n",
       "      <td>56.93</td>\n",
       "      <td>49.15</td>\n",
       "      <td>0.0</td>\n",
       "      <td>0.44</td>\n",
       "      <td>Gostinnitsa Podvor'ye</td>\n",
       "    </tr>\n",
       "    <tr>\n",
       "      <th>24</th>\n",
       "      <td>474</td>\n",
       "      <td>Georgiyevskoye</td>\n",
       "      <td>RU</td>\n",
       "      <td>30.99</td>\n",
       "      <td>light snow</td>\n",
       "      <td>58.73</td>\n",
       "      <td>45.02</td>\n",
       "      <td>0.0</td>\n",
       "      <td>1.25</td>\n",
       "      <td>Krasnye Kholmy Hotel</td>\n",
       "    </tr>\n",
       "    <tr>\n",
       "      <th>16</th>\n",
       "      <td>356</td>\n",
       "      <td>Kholm</td>\n",
       "      <td>RU</td>\n",
       "      <td>35.55</td>\n",
       "      <td>light snow</td>\n",
       "      <td>59.27</td>\n",
       "      <td>32.85</td>\n",
       "      <td>0.0</td>\n",
       "      <td>0.25</td>\n",
       "      <td>Отель XL</td>\n",
       "    </tr>\n",
       "    <tr>\n",
       "      <th>10</th>\n",
       "      <td>300</td>\n",
       "      <td>Syasstroy</td>\n",
       "      <td>RU</td>\n",
       "      <td>36.41</td>\n",
       "      <td>light snow</td>\n",
       "      <td>60.14</td>\n",
       "      <td>32.57</td>\n",
       "      <td>0.0</td>\n",
       "      <td>0.12</td>\n",
       "      <td>База Отдыха Горизонт</td>\n",
       "    </tr>\n",
       "  </tbody>\n",
       "</table>\n",
       "</div>"
      ],
      "text/plain": [
       "    City_ID            City Country  Max Temp Current Desc    Lat    Lng  \\\n",
       "17      379          Sernur      RU     28.17   light snow  56.93  49.15   \n",
       "24      474  Georgiyevskoye      RU     30.99   light snow  58.73  45.02   \n",
       "16      356           Kholm      RU     35.55   light snow  59.27  32.85   \n",
       "10      300       Syasstroy      RU     36.41   light snow  60.14  32.57   \n",
       "\n",
       "    Rain Inches (last 3 hrs)  Snow Inches (last 3 hrs)             Hotel Name  \n",
       "17                       0.0                      0.44  Gostinnitsa Podvor'ye  \n",
       "24                       0.0                      1.25   Krasnye Kholmy Hotel  \n",
       "16                       0.0                      0.25               Отель XL  \n",
       "10                       0.0                      0.12   База Отдыха Горизонт  "
      ]
     },
     "execution_count": 13,
     "metadata": {},
     "output_type": "execute_result"
    }
   ],
   "source": [
    "#create ind df for each of the 4 cities in vacation itinerary\n",
    "cityA = city_df[city_df[\"City\"]==\"Sernur\"]\n",
    "cityB = city_df[city_df[\"City\"]==\"Georgiyevskoye\"]\n",
    "cityC = city_df[city_df[\"City\"]==\"Kholm\"]\n",
    "cityD = city_df[city_df[\"City\"]==\"Syasstroy\"]\n",
    "itin_cities = pd.concat([cityA,cityB,cityC,cityD])\n",
    "itin_cities"
   ]
  },
  {
   "cell_type": "code",
   "execution_count": 10,
   "metadata": {},
   "outputs": [],
   "source": [
    "#configure gmaps to use API\n",
    "gmaps.configure(api_key=g_key)"
   ]
  },
  {
   "cell_type": "code",
   "execution_count": 17,
   "metadata": {},
   "outputs": [
    {
     "data": {
      "text/plain": [
       "[(56.93, 49.15), (58.73, 45.02), (59.27, 32.85), (60.14, 32.57)]"
      ]
     },
     "execution_count": 17,
     "metadata": {},
     "output_type": "execute_result"
    }
   ],
   "source": [
    "#loop through cities to create location tuple for Gmaps\n",
    "directions = []\n",
    "for index, row in itin_cities.iterrows():\n",
    "    directions.append((row[\"Lat\"],row[\"Lng\"]))\n",
    "directions"
   ]
  },
  {
   "cell_type": "code",
   "execution_count": 54,
   "metadata": {},
   "outputs": [],
   "source": [
    "#set info box per Gmaps\n",
    "info_box_template = \"\"\"\n",
    "<dl>\n",
    "<dt>Hotel Name</dt><dd>{Hotel Name}</dd>\n",
    "<dt>City</dt><dd>{City}</dd>\n",
    "<dt>Country</dt><dd>{Country}</dd>\n",
    "<dt>Current Weather</dt><dd>{Current Desc} and {Max Temp} °F</dd>\n",
    "</dl>\n",
    "\"\"\"\n",
    "# Store the DataFrame Row.\n",
    "hotel_info = [info_box_template.format(**row) for index, row in itin_cities.iterrows()]"
   ]
  },
  {
   "cell_type": "code",
   "execution_count": 59,
   "metadata": {
    "scrolled": true
   },
   "outputs": [
    {
     "data": {
      "application/vnd.jupyter.widget-view+json": {
       "model_id": "417762c02f944a65a7eb5a9a429fc08d",
       "version_major": 2,
       "version_minor": 0
      },
      "text/plain": [
       "Figure(layout=FigureLayout(height='420px'))"
      ]
     },
     "metadata": {},
     "output_type": "display_data"
    }
   ],
   "source": [
    "#create gmaps direction layer and a map\n",
    "fig = gmaps.figure(center=(59.0, 40.0), zoom_level=5)\n",
    "direction_layer = gmaps.directions_layer(directions[0],directions[3],\n",
    "                                        waypoints=directions[1:3],\n",
    "                                        travel_mode='DRIVING')\n",
    "fig.add_layer(direction_layer)\n",
    "# Call the figure to plot the data.\n",
    "fig"
   ]
  },
  {
   "cell_type": "code",
   "execution_count": 58,
   "metadata": {},
   "outputs": [
    {
     "data": {
      "application/vnd.jupyter.widget-view+json": {
       "model_id": "2a2a0884a0f74459957fd0d7f06b4291",
       "version_major": 2,
       "version_minor": 0
      },
      "text/plain": [
       "Figure(layout=FigureLayout(height='420px'))"
      ]
     },
     "metadata": {},
     "output_type": "display_data"
    }
   ],
   "source": [
    "#create gmaps popup marker map for vacation\n",
    "fig = gmaps.figure(center=(59.0, 40.0), zoom_level=5)\n",
    "\n",
    "locations = itin_cities[[\"Lat\",\"Lng\"]]\n",
    "marker_layer = gmaps.marker_layer(locations, info_box_content=hotel_info)\n",
    "\n",
    "fig.add_layer(marker_layer)\n",
    "# Call the figure to plot the data.\n",
    "fig"
   ]
  },
  {
   "cell_type": "code",
   "execution_count": null,
   "metadata": {},
   "outputs": [],
   "source": []
  }
 ],
 "metadata": {
  "kernelspec": {
   "display_name": "PythonData",
   "language": "python",
   "name": "pythondata"
  },
  "language_info": {
   "codemirror_mode": {
    "name": "ipython",
    "version": 3
   },
   "file_extension": ".py",
   "mimetype": "text/x-python",
   "name": "python",
   "nbconvert_exporter": "python",
   "pygments_lexer": "ipython3",
   "version": "3.7.6"
  }
 },
 "nbformat": 4,
 "nbformat_minor": 4
}
